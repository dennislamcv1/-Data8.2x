{
 "cells": [
  {
   "cell_type": "code",
   "execution_count": 1,
   "metadata": {},
   "outputs": [],
   "source": [
    "from datascience import *\n",
    "import numpy as np\n",
    "\n",
    "import matplotlib.pyplot as plots\n",
    "plots.style.use('fivethirtyeight')\n",
    "%matplotlib inline"
   ]
  },
  {
   "cell_type": "markdown",
   "metadata": {},
   "source": [
    "## Sampling"
   ]
  },
  {
   "cell_type": "markdown",
   "metadata": {},
   "source": [
    "**Please run all cells before this cell, including the import cell at the top of the notebook.**"
   ]
  },
  {
   "cell_type": "code",
   "execution_count": 2,
   "metadata": {},
   "outputs": [
    {
     "data": {
      "text/html": [
       "<table border=\"1\" class=\"dataframe\">\n",
       "    <thead>\n",
       "        <tr>\n",
       "            <th>Row Index</th> <th>Title</th> <th>Studio</th> <th>Gross</th> <th>Gross (Adjusted)</th> <th>Year</th>\n",
       "        </tr>\n",
       "    </thead>\n",
       "    <tbody>\n",
       "        <tr>\n",
       "            <td>0        </td> <td>Gone with the Wind              </td> <td>MGM            </td> <td>198,676,459</td> <td>1,796,176,700   </td> <td>1939</td>\n",
       "        </tr>\n",
       "        <tr>\n",
       "            <td>1        </td> <td>Star Wars                       </td> <td>Fox            </td> <td>460,998,007</td> <td>1,583,483,200   </td> <td>1977</td>\n",
       "        </tr>\n",
       "        <tr>\n",
       "            <td>2        </td> <td>The Sound of Music              </td> <td>Fox            </td> <td>158,671,368</td> <td>1,266,072,700   </td> <td>1965</td>\n",
       "        </tr>\n",
       "        <tr>\n",
       "            <td>3        </td> <td>E.T.: The Extra-Terrestrial     </td> <td>Universal      </td> <td>435,110,554</td> <td>1,261,085,000   </td> <td>1982</td>\n",
       "        </tr>\n",
       "        <tr>\n",
       "            <td>4        </td> <td>Titanic                         </td> <td>Paramount      </td> <td>658,672,302</td> <td>1,204,368,000   </td> <td>1997</td>\n",
       "        </tr>\n",
       "        <tr>\n",
       "            <td>5        </td> <td>The Ten Commandments            </td> <td>Paramount      </td> <td>65,500,000 </td> <td>1,164,590,000   </td> <td>1956</td>\n",
       "        </tr>\n",
       "        <tr>\n",
       "            <td>6        </td> <td>Jaws                            </td> <td>Universal      </td> <td>260,000,000</td> <td>1,138,620,700   </td> <td>1975</td>\n",
       "        </tr>\n",
       "        <tr>\n",
       "            <td>7        </td> <td>Doctor Zhivago                  </td> <td>MGM            </td> <td>111,721,910</td> <td>1,103,564,200   </td> <td>1965</td>\n",
       "        </tr>\n",
       "        <tr>\n",
       "            <td>8        </td> <td>The Exorcist                    </td> <td>Warner Brothers</td> <td>232,906,145</td> <td>983,226,600     </td> <td>1973</td>\n",
       "        </tr>\n",
       "        <tr>\n",
       "            <td>9        </td> <td>Snow White and the Seven Dwarves</td> <td>Disney         </td> <td>184,925,486</td> <td>969,010,000     </td> <td>1937</td>\n",
       "        </tr>\n",
       "    </tbody>\n",
       "</table>\n",
       "<p>... (190 rows omitted)</p>"
      ],
      "text/plain": [
       "Row Index | Title                            | Studio          | Gross       | Gross (Adjusted) | Year\n",
       "0         | Gone with the Wind               | MGM             | 198,676,459 | 1,796,176,700    | 1939\n",
       "1         | Star Wars                        | Fox             | 460,998,007 | 1,583,483,200    | 1977\n",
       "2         | The Sound of Music               | Fox             | 158,671,368 | 1,266,072,700    | 1965\n",
       "3         | E.T.: The Extra-Terrestrial      | Universal       | 435,110,554 | 1,261,085,000    | 1982\n",
       "4         | Titanic                          | Paramount       | 658,672,302 | 1,204,368,000    | 1997\n",
       "5         | The Ten Commandments             | Paramount       | 65,500,000  | 1,164,590,000    | 1956\n",
       "6         | Jaws                             | Universal       | 260,000,000 | 1,138,620,700    | 1975\n",
       "7         | Doctor Zhivago                   | MGM             | 111,721,910 | 1,103,564,200    | 1965\n",
       "8         | The Exorcist                     | Warner Brothers | 232,906,145 | 983,226,600      | 1973\n",
       "9         | Snow White and the Seven Dwarves | Disney          | 184,925,486 | 969,010,000      | 1937\n",
       "... (190 rows omitted)"
      ]
     },
     "execution_count": 2,
     "metadata": {},
     "output_type": "execute_result"
    }
   ],
   "source": [
    "top = Table.read_table('top_movies_2017.csv')\n",
    "top = top.with_column('Row Index', np.arange(top.num_rows)).move_to_start('Row Index')\n",
    "top.set_format(['Gross', 'Gross (Adjusted)'], NumberFormatter)"
   ]
  },
  {
   "cell_type": "code",
   "execution_count": 3,
   "metadata": {},
   "outputs": [
    {
     "data": {
      "text/html": [
       "<table border=\"1\" class=\"dataframe\">\n",
       "    <thead>\n",
       "        <tr>\n",
       "            <th>Row Index</th> <th>Title</th> <th>Studio</th> <th>Gross</th> <th>Gross (Adjusted)</th> <th>Year</th>\n",
       "        </tr>\n",
       "    </thead>\n",
       "    <tbody>\n",
       "        <tr>\n",
       "            <td>3        </td> <td>E.T.: The Extra-Terrestrial</td> <td>Universal</td> <td>435,110,554</td> <td>1,261,085,000   </td> <td>1982</td>\n",
       "        </tr>\n",
       "        <tr>\n",
       "            <td>5        </td> <td>The Ten Commandments       </td> <td>Paramount</td> <td>65,500,000 </td> <td>1,164,590,000   </td> <td>1956</td>\n",
       "        </tr>\n",
       "        <tr>\n",
       "            <td>7        </td> <td>Doctor Zhivago             </td> <td>MGM      </td> <td>111,721,910</td> <td>1,103,564,200   </td> <td>1965</td>\n",
       "        </tr>\n",
       "    </tbody>\n",
       "</table>"
      ],
      "text/plain": [
       "Row Index | Title                       | Studio    | Gross       | Gross (Adjusted) | Year\n",
       "3         | E.T.: The Extra-Terrestrial | Universal | 435,110,554 | 1,261,085,000    | 1982\n",
       "5         | The Ten Commandments        | Paramount | 65,500,000  | 1,164,590,000    | 1956\n",
       "7         | Doctor Zhivago              | MGM       | 111,721,910 | 1,103,564,200    | 1965"
      ]
     },
     "execution_count": 3,
     "metadata": {},
     "output_type": "execute_result"
    }
   ],
   "source": [
    "top.take([3, 5, 7])"
   ]
  },
  {
   "cell_type": "code",
   "execution_count": 4,
   "metadata": {},
   "outputs": [
    {
     "data": {
      "text/html": [
       "<table border=\"1\" class=\"dataframe\">\n",
       "    <thead>\n",
       "        <tr>\n",
       "            <th>Row Index</th> <th>Title</th> <th>Studio</th> <th>Gross</th> <th>Gross (Adjusted)</th> <th>Year</th>\n",
       "        </tr>\n",
       "    </thead>\n",
       "    <tbody>\n",
       "        <tr>\n",
       "            <td>9        </td> <td>Snow White and the Seven Dwarves           </td> <td>Disney         </td> <td>184,925,486</td> <td>969,010,000     </td> <td>1937</td>\n",
       "        </tr>\n",
       "        <tr>\n",
       "            <td>35       </td> <td>Butch Cassidy and the Sundance Kid         </td> <td>Fox            </td> <td>102,308,889</td> <td>627,259,300     </td> <td>1969</td>\n",
       "        </tr>\n",
       "        <tr>\n",
       "            <td>70       </td> <td>Smokey and the Bandit                      </td> <td>Universal      </td> <td>126,737,428</td> <td>505,244,700     </td> <td>1977</td>\n",
       "        </tr>\n",
       "        <tr>\n",
       "            <td>71       </td> <td>Beauty and the Beast (2017)                </td> <td>Buena Vista    </td> <td>504,014,165</td> <td>504,014,165     </td> <td>2017</td>\n",
       "        </tr>\n",
       "        <tr>\n",
       "            <td>74       </td> <td>Harry Potter and the Sorcerer's Stone      </td> <td>Warner Brothers</td> <td>317,575,550</td> <td>497,066,400     </td> <td>2001</td>\n",
       "        </tr>\n",
       "        <tr>\n",
       "            <td>75       </td> <td>Lady and the Tramp                         </td> <td>Disney         </td> <td>93,602,326 </td> <td>495,483,100     </td> <td>1955</td>\n",
       "        </tr>\n",
       "        <tr>\n",
       "            <td>91       </td> <td>Indiana Jones and the Temple of Doom       </td> <td>Paramount      </td> <td>179,870,271</td> <td>475,906,700     </td> <td>1984</td>\n",
       "        </tr>\n",
       "        <tr>\n",
       "            <td>105      </td> <td>Indiana Jones and the Last Crusade         </td> <td>Paramount      </td> <td>197,171,806</td> <td>439,312,600     </td> <td>1989</td>\n",
       "        </tr>\n",
       "        <tr>\n",
       "            <td>114      </td> <td>Harry Potter and the Deathly Hallows Part 2</td> <td>Warner Brothers</td> <td>381,011,219</td> <td>426,630,300     </td> <td>2011</td>\n",
       "        </tr>\n",
       "        <tr>\n",
       "            <td>129      </td> <td>Beauty and the Beast                       </td> <td>Buena Vista    </td> <td>218,967,620</td> <td>403,283,400     </td> <td>1991</td>\n",
       "        </tr>\n",
       "    </tbody>\n",
       "</table>\n",
       "<p>... (7 rows omitted)</p>"
      ],
      "text/plain": [
       "Row Index | Title                                       | Studio          | Gross       | Gross (Adjusted) | Year\n",
       "9         | Snow White and the Seven Dwarves            | Disney          | 184,925,486 | 969,010,000      | 1937\n",
       "35        | Butch Cassidy and the Sundance Kid          | Fox             | 102,308,889 | 627,259,300      | 1969\n",
       "70        | Smokey and the Bandit                       | Universal       | 126,737,428 | 505,244,700      | 1977\n",
       "71        | Beauty and the Beast (2017)                 | Buena Vista     | 504,014,165 | 504,014,165      | 2017\n",
       "74        | Harry Potter and the Sorcerer's Stone       | Warner Brothers | 317,575,550 | 497,066,400      | 2001\n",
       "75        | Lady and the Tramp                          | Disney          | 93,602,326  | 495,483,100      | 1955\n",
       "91        | Indiana Jones and the Temple of Doom        | Paramount       | 179,870,271 | 475,906,700      | 1984\n",
       "105       | Indiana Jones and the Last Crusade          | Paramount       | 197,171,806 | 439,312,600      | 1989\n",
       "114       | Harry Potter and the Deathly Hallows Part 2 | Warner Brothers | 381,011,219 | 426,630,300      | 2011\n",
       "129       | Beauty and the Beast                        | Buena Vista     | 218,967,620 | 403,283,400      | 1991\n",
       "... (7 rows omitted)"
      ]
     },
     "execution_count": 4,
     "metadata": {},
     "output_type": "execute_result"
    }
   ],
   "source": [
    "top.where('Title', are.containing('and the'))"
   ]
  },
  {
   "cell_type": "code",
   "execution_count": 5,
   "metadata": {},
   "outputs": [
    {
     "data": {
      "text/html": [
       "<table border=\"1\" class=\"dataframe\">\n",
       "    <thead>\n",
       "        <tr>\n",
       "            <th>Row Index</th> <th>Title</th> <th>Studio</th> <th>Gross</th> <th>Gross (Adjusted)</th> <th>Year</th>\n",
       "        </tr>\n",
       "    </thead>\n",
       "    <tbody>\n",
       "        <tr>\n",
       "            <td>8        </td> <td>The Exorcist                    </td> <td>Warner Brothers</td> <td>232,906,145</td> <td>983,226,600     </td> <td>1973</td>\n",
       "        </tr>\n",
       "        <tr>\n",
       "            <td>9        </td> <td>Snow White and the Seven Dwarves</td> <td>Disney         </td> <td>184,925,486</td> <td>969,010,000     </td> <td>1937</td>\n",
       "        </tr>\n",
       "        <tr>\n",
       "            <td>10       </td> <td>Star Wars: The Force Awakens    </td> <td>Buena Vista    </td> <td>936,662,225</td> <td>961,143,200     </td> <td>2015</td>\n",
       "        </tr>\n",
       "        <tr>\n",
       "            <td>11       </td> <td>101 Dalmatians                  </td> <td>Disney         </td> <td>144,880,014</td> <td>888,264,400     </td> <td>1961</td>\n",
       "        </tr>\n",
       "        <tr>\n",
       "            <td>12       </td> <td>The Empire Strikes Back         </td> <td>Fox            </td> <td>290,475,067</td> <td>872,825,900     </td> <td>1980</td>\n",
       "        </tr>\n",
       "    </tbody>\n",
       "</table>"
      ],
      "text/plain": [
       "Row Index | Title                            | Studio          | Gross       | Gross (Adjusted) | Year\n",
       "8         | The Exorcist                     | Warner Brothers | 232,906,145 | 983,226,600      | 1973\n",
       "9         | Snow White and the Seven Dwarves | Disney          | 184,925,486 | 969,010,000      | 1937\n",
       "10        | Star Wars: The Force Awakens     | Buena Vista     | 936,662,225 | 961,143,200      | 2015\n",
       "11        | 101 Dalmatians                   | Disney          | 144,880,014 | 888,264,400      | 1961\n",
       "12        | The Empire Strikes Back          | Fox             | 290,475,067 | 872,825,900      | 1980"
      ]
     },
     "execution_count": 5,
     "metadata": {},
     "output_type": "execute_result"
    }
   ],
   "source": [
    "start = np.random.choice(np.arange(10))\n",
    "top.take(np.arange(start, start + 5))"
   ]
  },
  {
   "cell_type": "code",
   "execution_count": 6,
   "metadata": {},
   "outputs": [
    {
     "data": {
      "text/html": [
       "<table border=\"1\" class=\"dataframe\">\n",
       "    <thead>\n",
       "        <tr>\n",
       "            <th>Row Index</th> <th>Title</th> <th>Studio</th> <th>Gross</th> <th>Gross (Adjusted)</th> <th>Year</th>\n",
       "        </tr>\n",
       "    </thead>\n",
       "    <tbody>\n",
       "        <tr>\n",
       "            <td>174      </td> <td>Austin Powers: The Spy Who Shagged Me</td> <td>Newline        </td> <td>206,040,086</td> <td>360,570,200     </td> <td>1999</td>\n",
       "        </tr>\n",
       "        <tr>\n",
       "            <td>190      </td> <td>Batman Returns                       </td> <td>Warner Brothers</td> <td>162,831,698</td> <td>348,813,000     </td> <td>1992</td>\n",
       "        </tr>\n",
       "        <tr>\n",
       "            <td>135      </td> <td>The Caine Mutiny                     </td> <td>Columbia       </td> <td>21,750,000 </td> <td>394,607,100     </td> <td>1954</td>\n",
       "        </tr>\n",
       "        <tr>\n",
       "            <td>10       </td> <td>Star Wars: The Force Awakens         </td> <td>Buena Vista    </td> <td>936,662,225</td> <td>961,143,200     </td> <td>2015</td>\n",
       "        </tr>\n",
       "        <tr>\n",
       "            <td>15       </td> <td>Return of the Jedi                   </td> <td>Fox            </td> <td>309,306,177</td> <td>836,188,200     </td> <td>1983</td>\n",
       "        </tr>\n",
       "    </tbody>\n",
       "</table>"
      ],
      "text/plain": [
       "Row Index | Title                                 | Studio          | Gross       | Gross (Adjusted) | Year\n",
       "174       | Austin Powers: The Spy Who Shagged Me | Newline         | 206,040,086 | 360,570,200      | 1999\n",
       "190       | Batman Returns                        | Warner Brothers | 162,831,698 | 348,813,000      | 1992\n",
       "135       | The Caine Mutiny                      | Columbia        | 21,750,000  | 394,607,100      | 1954\n",
       "10        | Star Wars: The Force Awakens          | Buena Vista     | 936,662,225 | 961,143,200      | 2015\n",
       "15        | Return of the Jedi                    | Fox             | 309,306,177 | 836,188,200      | 1983"
      ]
     },
     "execution_count": 6,
     "metadata": {},
     "output_type": "execute_result"
    }
   ],
   "source": [
    "top.sample(5)"
   ]
  },
  {
   "cell_type": "code",
   "execution_count": 7,
   "metadata": {},
   "outputs": [
    {
     "data": {
      "text/html": [
       "<table border=\"1\" class=\"dataframe\">\n",
       "    <thead>\n",
       "        <tr>\n",
       "            <th>Title</th> <th>count</th>\n",
       "        </tr>\n",
       "    </thead>\n",
       "    <tbody>\n",
       "        <tr>\n",
       "            <td>101 Dalmatians             </td> <td>1    </td>\n",
       "        </tr>\n",
       "        <tr>\n",
       "            <td>Aladdin                    </td> <td>2    </td>\n",
       "        </tr>\n",
       "        <tr>\n",
       "            <td>American Graffiti          </td> <td>1    </td>\n",
       "        </tr>\n",
       "        <tr>\n",
       "            <td>Bambi                      </td> <td>1    </td>\n",
       "        </tr>\n",
       "        <tr>\n",
       "            <td>Cinderella (1950)          </td> <td>1    </td>\n",
       "        </tr>\n",
       "        <tr>\n",
       "            <td>Dances with Wolves         </td> <td>1    </td>\n",
       "        </tr>\n",
       "        <tr>\n",
       "            <td>E.T.: The Extra-Terrestrial</td> <td>1    </td>\n",
       "        </tr>\n",
       "        <tr>\n",
       "            <td>Finding Dory               </td> <td>1    </td>\n",
       "        </tr>\n",
       "        <tr>\n",
       "            <td>Funny Girl                 </td> <td>1    </td>\n",
       "        </tr>\n",
       "        <tr>\n",
       "            <td>Furious 7                  </td> <td>1    </td>\n",
       "        </tr>\n",
       "    </tbody>\n",
       "</table>\n",
       "<p>... (38 rows omitted)</p>"
      ],
      "text/plain": [
       "Title                       | count\n",
       "101 Dalmatians              | 1\n",
       "Aladdin                     | 2\n",
       "American Graffiti           | 1\n",
       "Bambi                       | 1\n",
       "Cinderella (1950)           | 1\n",
       "Dances with Wolves          | 1\n",
       "E.T.: The Extra-Terrestrial | 1\n",
       "Finding Dory                | 1\n",
       "Funny Girl                  | 1\n",
       "Furious 7                   | 1\n",
       "... (38 rows omitted)"
      ]
     },
     "execution_count": 7,
     "metadata": {},
     "output_type": "execute_result"
    }
   ],
   "source": [
    "top.sample(50).group(\"Title\")"
   ]
  },
  {
   "cell_type": "code",
   "execution_count": 8,
   "metadata": {},
   "outputs": [
    {
     "data": {
      "text/html": [
       "<table border=\"1\" class=\"dataframe\">\n",
       "    <thead>\n",
       "        <tr>\n",
       "            <th>Title</th> <th>count</th>\n",
       "        </tr>\n",
       "    </thead>\n",
       "    <tbody>\n",
       "        <tr>\n",
       "            <td>101 Dalmatians             </td> <td>3    </td>\n",
       "        </tr>\n",
       "        <tr>\n",
       "            <td>2001: A Space Odyssey      </td> <td>4    </td>\n",
       "        </tr>\n",
       "        <tr>\n",
       "            <td>9 to 5                     </td> <td>4    </td>\n",
       "        </tr>\n",
       "        <tr>\n",
       "            <td>Aladdin                    </td> <td>1    </td>\n",
       "        </tr>\n",
       "        <tr>\n",
       "            <td>Alice in Wonderland (2010) </td> <td>8    </td>\n",
       "        </tr>\n",
       "        <tr>\n",
       "            <td>American Graffiti          </td> <td>4    </td>\n",
       "        </tr>\n",
       "        <tr>\n",
       "            <td>An Officer and a Gentleman </td> <td>2    </td>\n",
       "        </tr>\n",
       "        <tr>\n",
       "            <td>Apollo 13                  </td> <td>3    </td>\n",
       "        </tr>\n",
       "        <tr>\n",
       "            <td>Armageddon                 </td> <td>3    </td>\n",
       "        </tr>\n",
       "        <tr>\n",
       "            <td>Around the World in 80 Days</td> <td>1    </td>\n",
       "        </tr>\n",
       "    </tbody>\n",
       "</table>\n",
       "<p>... (174 rows omitted)</p>"
      ],
      "text/plain": [
       "Title                       | count\n",
       "101 Dalmatians              | 3\n",
       "2001: A Space Odyssey       | 4\n",
       "9 to 5                      | 4\n",
       "Aladdin                     | 1\n",
       "Alice in Wonderland (2010)  | 8\n",
       "American Graffiti           | 4\n",
       "An Officer and a Gentleman  | 2\n",
       "Apollo 13                   | 3\n",
       "Armageddon                  | 3\n",
       "Around the World in 80 Days | 1\n",
       "... (174 rows omitted)"
      ]
     },
     "execution_count": 8,
     "metadata": {},
     "output_type": "execute_result"
    }
   ],
   "source": [
    "top.sample(500).group('Title')"
   ]
  },
  {
   "cell_type": "code",
   "execution_count": 9,
   "metadata": {},
   "outputs": [
    {
     "data": {
      "text/html": [
       "<table border=\"1\" class=\"dataframe\">\n",
       "    <thead>\n",
       "        <tr>\n",
       "            <th>Row Index</th> <th>Title</th> <th>Studio</th> <th>Gross</th> <th>Gross (Adjusted)</th> <th>Year</th>\n",
       "        </tr>\n",
       "    </thead>\n",
       "    <tbody>\n",
       "        <tr>\n",
       "            <td>187      </td> <td>Beverly Hills Cop II</td> <td>Paramount</td> <td>153,665,036</td> <td>349,381,600     </td> <td>1987</td>\n",
       "        </tr>\n",
       "        <tr>\n",
       "            <td>39       </td> <td>Home Alone          </td> <td>Fox      </td> <td>285,761,243</td> <td>602,157,000     </td> <td>1990</td>\n",
       "        </tr>\n",
       "        <tr>\n",
       "            <td>11       </td> <td>101 Dalmatians      </td> <td>Disney   </td> <td>144,880,014</td> <td>888,264,400     </td> <td>1961</td>\n",
       "        </tr>\n",
       "        <tr>\n",
       "            <td>127      </td> <td>Peter Pan           </td> <td>Disney   </td> <td>87,404,651 </td> <td>405,593,100     </td> <td>1953</td>\n",
       "        </tr>\n",
       "        <tr>\n",
       "            <td>1        </td> <td>Star Wars           </td> <td>Fox      </td> <td>460,998,007</td> <td>1,583,483,200   </td> <td>1977</td>\n",
       "        </tr>\n",
       "    </tbody>\n",
       "</table>"
      ],
      "text/plain": [
       "Row Index | Title                | Studio    | Gross       | Gross (Adjusted) | Year\n",
       "187       | Beverly Hills Cop II | Paramount | 153,665,036 | 349,381,600      | 1987\n",
       "39        | Home Alone           | Fox       | 285,761,243 | 602,157,000      | 1990\n",
       "11        | 101 Dalmatians       | Disney    | 144,880,014 | 888,264,400      | 1961\n",
       "127       | Peter Pan            | Disney    | 87,404,651  | 405,593,100      | 1953\n",
       "1         | Star Wars            | Fox       | 460,998,007 | 1,583,483,200    | 1977"
      ]
     },
     "execution_count": 9,
     "metadata": {},
     "output_type": "execute_result"
    }
   ],
   "source": [
    "top.sample(5, with_replacement=False)"
   ]
  },
  {
   "cell_type": "markdown",
   "metadata": {},
   "source": [
    "## Dice"
   ]
  },
  {
   "cell_type": "markdown",
   "metadata": {},
   "source": [
    "**Please run all cells before this cell, including the previous example cells and the import cell at the top of the notebook.**"
   ]
  },
  {
   "cell_type": "code",
   "execution_count": 10,
   "metadata": {},
   "outputs": [
    {
     "data": {
      "text/html": [
       "<table border=\"1\" class=\"dataframe\">\n",
       "    <thead>\n",
       "        <tr>\n",
       "            <th>face</th>\n",
       "        </tr>\n",
       "    </thead>\n",
       "    <tbody>\n",
       "        <tr>\n",
       "            <td>1   </td>\n",
       "        </tr>\n",
       "        <tr>\n",
       "            <td>2   </td>\n",
       "        </tr>\n",
       "        <tr>\n",
       "            <td>3   </td>\n",
       "        </tr>\n",
       "        <tr>\n",
       "            <td>4   </td>\n",
       "        </tr>\n",
       "        <tr>\n",
       "            <td>5   </td>\n",
       "        </tr>\n",
       "        <tr>\n",
       "            <td>6   </td>\n",
       "        </tr>\n",
       "    </tbody>\n",
       "</table>"
      ],
      "text/plain": [
       "face\n",
       "1\n",
       "2\n",
       "3\n",
       "4\n",
       "5\n",
       "6"
      ]
     },
     "execution_count": 10,
     "metadata": {},
     "output_type": "execute_result"
    }
   ],
   "source": [
    "die = Table().with_column('face', np.arange(6)+1)\n",
    "die"
   ]
  },
  {
   "cell_type": "code",
   "execution_count": 11,
   "metadata": {},
   "outputs": [
    {
     "data": {
      "image/png": "[encoded data removed]",
      "text/plain": [
       "<Figure size 432x288 with 1 Axes>"
      ]
     },
     "metadata": {
      "needs_background": "light"
     },
     "output_type": "display_data"
    }
   ],
   "source": [
    "def face_hist(t):\n",
    "    t.hist('face', bins=np.arange(0.5, 7, 1), unit='face')\n",
    "    plots.xlabel('Face')\n",
    "\n",
    "face_hist(die)"
   ]
  },
  {
   "cell_type": "code",
   "execution_count": 12,
   "metadata": {},
   "outputs": [
    {
     "data": {
      "image/png": "[encoded data removed]",
      "text/plain": [
       "<Figure size 432x288 with 1 Axes>"
      ]
     },
     "metadata": {
      "needs_background": "light"
     },
     "output_type": "display_data"
    }
   ],
   "source": [
    "# Try changing the sample size of 1000 to larger and smaller numbers\n",
    "face_hist(die.sample(1000))"
   ]
  },
  {
   "cell_type": "markdown",
   "metadata": {},
   "source": [
    "## Large Random Samples"
   ]
  },
  {
   "cell_type": "markdown",
   "metadata": {},
   "source": [
    "**Please run all cells before this cell, including the previous example cells and the import cell at the top of the notebook.**"
   ]
  },
  {
   "cell_type": "code",
   "execution_count": 13,
   "metadata": {},
   "outputs": [
    {
     "data": {
      "text/html": [
       "<table border=\"1\" class=\"dataframe\">\n",
       "    <thead>\n",
       "        <tr>\n",
       "            <th>Date</th> <th>Flight Number</th> <th>Destination</th> <th>Delay</th>\n",
       "        </tr>\n",
       "    </thead>\n",
       "    <tbody>\n",
       "        <tr>\n",
       "            <td>6/1/15</td> <td>73           </td> <td>HNL        </td> <td>257  </td>\n",
       "        </tr>\n",
       "        <tr>\n",
       "            <td>6/1/15</td> <td>217          </td> <td>EWR        </td> <td>28   </td>\n",
       "        </tr>\n",
       "        <tr>\n",
       "            <td>6/1/15</td> <td>237          </td> <td>STL        </td> <td>-3   </td>\n",
       "        </tr>\n",
       "        <tr>\n",
       "            <td>6/1/15</td> <td>250          </td> <td>SAN        </td> <td>0    </td>\n",
       "        </tr>\n",
       "        <tr>\n",
       "            <td>6/1/15</td> <td>267          </td> <td>PHL        </td> <td>64   </td>\n",
       "        </tr>\n",
       "        <tr>\n",
       "            <td>6/1/15</td> <td>273          </td> <td>SEA        </td> <td>-6   </td>\n",
       "        </tr>\n",
       "        <tr>\n",
       "            <td>6/1/15</td> <td>278          </td> <td>SEA        </td> <td>-8   </td>\n",
       "        </tr>\n",
       "        <tr>\n",
       "            <td>6/1/15</td> <td>292          </td> <td>EWR        </td> <td>12   </td>\n",
       "        </tr>\n",
       "        <tr>\n",
       "            <td>6/1/15</td> <td>300          </td> <td>HNL        </td> <td>20   </td>\n",
       "        </tr>\n",
       "        <tr>\n",
       "            <td>6/1/15</td> <td>317          </td> <td>IND        </td> <td>-10  </td>\n",
       "        </tr>\n",
       "    </tbody>\n",
       "</table>\n",
       "<p>... (13722 rows omitted)</p>"
      ],
      "text/plain": [
       "Date   | Flight Number | Destination | Delay\n",
       "6/1/15 | 73            | HNL         | 257\n",
       "6/1/15 | 217           | EWR         | 28\n",
       "6/1/15 | 237           | STL         | -3\n",
       "6/1/15 | 250           | SAN         | 0\n",
       "6/1/15 | 267           | PHL         | 64\n",
       "6/1/15 | 273           | SEA         | -6\n",
       "6/1/15 | 278           | SEA         | -8\n",
       "6/1/15 | 292           | EWR         | 12\n",
       "6/1/15 | 300           | HNL         | 20\n",
       "6/1/15 | 317           | IND         | -10\n",
       "... (13722 rows omitted)"
      ]
     },
     "execution_count": 13,
     "metadata": {},
     "output_type": "execute_result"
    }
   ],
   "source": [
    "united = Table.read_table('united.csv')\n",
    "united"
   ]
  },
  {
   "cell_type": "code",
   "execution_count": 14,
   "metadata": {},
   "outputs": [
    {
     "data": {
      "image/png": "[encoded data removed]",
      "text/plain": [
       "<Figure size 432x288 with 1 Axes>"
      ]
     },
     "metadata": {
      "needs_background": "light"
     },
     "output_type": "display_data"
    }
   ],
   "source": [
    "def delay_hist(t):\n",
    "    t.hist('Delay', unit='minute', bins=np.arange(-30, 301, 10))\n",
    "    \n",
    "delay_hist(united)"
   ]
  },
  {
   "cell_type": "code",
   "execution_count": 15,
   "metadata": {},
   "outputs": [
    {
     "data": {
      "image/png": "[encoded data removed]",
      "text/plain": [
       "<Figure size 432x288 with 1 Axes>"
      ]
     },
     "metadata": {
      "needs_background": "light"
     },
     "output_type": "display_data"
    }
   ],
   "source": [
    "delay_hist(united.sample(1000))"
   ]
  },
  {
   "cell_type": "markdown",
   "metadata": {},
   "source": [
    "## Simulation"
   ]
  },
  {
   "cell_type": "markdown",
   "metadata": {},
   "source": [
    "**Please run all cells before this cell, including the previous example cells and the import cell at the top of the notebook.**"
   ]
  },
  {
   "cell_type": "code",
   "execution_count": 16,
   "metadata": {},
   "outputs": [
    {
     "data": {
      "text/plain": [
       "0.5177469135802468"
      ]
     },
     "execution_count": 16,
     "metadata": {},
     "output_type": "execute_result"
    }
   ],
   "source": [
    "k = 4\n",
    "1 - (5/6) ** 4"
   ]
  },
  {
   "cell_type": "code",
   "execution_count": 17,
   "metadata": {},
   "outputs": [
    {
     "data": {
      "text/plain": [
       "array([5, 1, 3, 6])"
      ]
     },
     "execution_count": 17,
     "metadata": {},
     "output_type": "execute_result"
    }
   ],
   "source": [
    "dice = np.arange(6) + 1\n",
    "rolls = np.random.choice(dice, k)\n",
    "rolls"
   ]
  },
  {
   "cell_type": "code",
   "execution_count": 18,
   "metadata": {},
   "outputs": [
    {
     "data": {
      "text/plain": [
       "1"
      ]
     },
     "execution_count": 18,
     "metadata": {},
     "output_type": "execute_result"
    }
   ],
   "source": [
    "sum(rolls == 6)"
   ]
  },
  {
   "cell_type": "code",
   "execution_count": 19,
   "metadata": {},
   "outputs": [
    {
     "data": {
      "text/plain": [
       "0.5171"
      ]
     },
     "execution_count": 19,
     "metadata": {},
     "output_type": "execute_result"
    }
   ],
   "source": [
    "trials = 10000\n",
    "successes = 0\n",
    "\n",
    "for _ in np.arange(trials):\n",
    "    rolls = np.random.choice(dice, k)\n",
    "    if sum(rolls == 6) > 0:\n",
    "        successes = successes + 1\n",
    "        \n",
    "successes / trials"
   ]
  },
  {
   "cell_type": "markdown",
   "metadata": {},
   "source": [
    "## Statistics"
   ]
  },
  {
   "cell_type": "markdown",
   "metadata": {},
   "source": [
    "**Please run all cells before this cell, including the previous example cells and the import cell at the top of the notebook.**"
   ]
  },
  {
   "cell_type": "code",
   "execution_count": 20,
   "metadata": {},
   "outputs": [],
   "source": [
    "# This cell will take a long time to run\n",
    "\n",
    "def estimate_by_simulation(trials):\n",
    "    successes = 0\n",
    "\n",
    "    for _ in np.arange(trials):\n",
    "        rolls = np.random.choice(dice, k)\n",
    "        if sum(rolls == 6) > 0:\n",
    "            successes = successes + 1\n",
    "\n",
    "    return successes / trials\n",
    "\n",
    "estimates = []\n",
    "for _ in np.arange(1000):\n",
    "    estimates.append(estimate_by_simulation(10000))"
   ]
  },
  {
   "cell_type": "code",
   "execution_count": 21,
   "metadata": {},
   "outputs": [
    {
     "data": {
      "image/png": "[encoded data removed]",
      "text/plain": [
       "<Figure size 432x288 with 1 Axes>"
      ]
     },
     "metadata": {
      "needs_background": "light"
     },
     "output_type": "display_data"
    }
   ],
   "source": [
    "Table().with_column('Estimate', estimates).hist(bins=50, normed=False)"
   ]
  }
 ],
 "metadata": {
  "kernelspec": {
   "display_name": "Python 3",
   "language": "python",
   "name": "python3"
  },
  "language_info": {
   "codemirror_mode": {
    "name": "ipython",
    "version": 3
   },
   "file_extension": ".py",
   "mimetype": "text/x-python",
   "name": "python",
   "nbconvert_exporter": "python",
   "pygments_lexer": "ipython3",
   "version": "3.7.1"
  }
 },
 "nbformat": 4,
 "nbformat_minor": 2
}
